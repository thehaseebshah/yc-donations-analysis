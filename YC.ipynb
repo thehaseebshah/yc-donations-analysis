{
 "cells": [
  {
   "cell_type": "code",
   "execution_count": 30,
   "metadata": {},
   "outputs": [],
   "source": [
    "import pandas as pd\n",
    "import numpy as np"
   ]
  },
  {
   "cell_type": "code",
   "execution_count": 121,
   "metadata": {},
   "outputs": [],
   "source": [
    "yc = pd.read_csv(\"YC Donation Drive.csv\")"
   ]
  },
  {
   "cell_type": "code",
   "execution_count": 6,
   "metadata": {},
   "outputs": [
    {
     "data": {
      "text/html": [
       "<div>\n",
       "<style scoped>\n",
       "    .dataframe tbody tr th:only-of-type {\n",
       "        vertical-align: middle;\n",
       "    }\n",
       "\n",
       "    .dataframe tbody tr th {\n",
       "        vertical-align: top;\n",
       "    }\n",
       "\n",
       "    .dataframe thead th {\n",
       "        text-align: right;\n",
       "    }\n",
       "</style>\n",
       "<table border=\"1\" class=\"dataframe\">\n",
       "  <thead>\n",
       "    <tr style=\"text-align: right;\">\n",
       "      <th></th>\n",
       "      <th>Timestamp</th>\n",
       "      <th>Username</th>\n",
       "      <th>Name</th>\n",
       "      <th>Contact No</th>\n",
       "      <th>City</th>\n",
       "      <th>Age</th>\n",
       "      <th>Gender</th>\n",
       "      <th>Occupation</th>\n",
       "      <th>Referred By</th>\n",
       "    </tr>\n",
       "  </thead>\n",
       "  <tbody>\n",
       "    <tr>\n",
       "      <th>0</th>\n",
       "      <td>2019/09/25 8:42:50 PM GMT+5</td>\n",
       "      <td>syedathermasood@gmail.com</td>\n",
       "      <td>Ather Syed</td>\n",
       "      <td>17632001987</td>\n",
       "      <td>Woodbury</td>\n",
       "      <td>32</td>\n",
       "      <td>Male</td>\n",
       "      <td>IT</td>\n",
       "      <td>Facebook</td>\n",
       "    </tr>\n",
       "    <tr>\n",
       "      <th>1</th>\n",
       "      <td>2019/09/25 8:45:33 PM GMT+5</td>\n",
       "      <td>muhammadwaryam97@gmail.com</td>\n",
       "      <td>Waryam</td>\n",
       "      <td>3085617139</td>\n",
       "      <td>Lahore</td>\n",
       "      <td>22</td>\n",
       "      <td>Male</td>\n",
       "      <td>Investor</td>\n",
       "      <td>NaN</td>\n",
       "    </tr>\n",
       "    <tr>\n",
       "      <th>2</th>\n",
       "      <td>2019/09/25 8:48:28 PM GMT+5</td>\n",
       "      <td>amnatanveer.at@gmail.com</td>\n",
       "      <td>Amna Tanveer</td>\n",
       "      <td>3365236845</td>\n",
       "      <td>Islamabad</td>\n",
       "      <td>24</td>\n",
       "      <td>Female</td>\n",
       "      <td>Dentist</td>\n",
       "      <td>NaN</td>\n",
       "    </tr>\n",
       "    <tr>\n",
       "      <th>3</th>\n",
       "      <td>2019/09/25 8:57:33 PM GMT+5</td>\n",
       "      <td>hisaankhalil@hotmail.com</td>\n",
       "      <td>HISAAN KHALIL NOON</td>\n",
       "      <td>3006046111</td>\n",
       "      <td>Islamabad</td>\n",
       "      <td>22</td>\n",
       "      <td>Male</td>\n",
       "      <td>LLB HONS STUDENT</td>\n",
       "      <td>Came across recently with the youth club page ...</td>\n",
       "    </tr>\n",
       "    <tr>\n",
       "      <th>4</th>\n",
       "      <td>2019/09/25 9:04:23 PM GMT+5</td>\n",
       "      <td>hajraakram506@gmail.com</td>\n",
       "      <td>Hajrah Akram</td>\n",
       "      <td>3085128162</td>\n",
       "      <td>Islamabad</td>\n",
       "      <td>25</td>\n",
       "      <td>Female</td>\n",
       "      <td>Government Servant</td>\n",
       "      <td>Facebook YC page</td>\n",
       "    </tr>\n",
       "  </tbody>\n",
       "</table>\n",
       "</div>"
      ],
      "text/plain": [
       "                     Timestamp                    Username  \\\n",
       "0  2019/09/25 8:42:50 PM GMT+5   syedathermasood@gmail.com   \n",
       "1  2019/09/25 8:45:33 PM GMT+5  muhammadwaryam97@gmail.com   \n",
       "2  2019/09/25 8:48:28 PM GMT+5    amnatanveer.at@gmail.com   \n",
       "3  2019/09/25 8:57:33 PM GMT+5    hisaankhalil@hotmail.com   \n",
       "4  2019/09/25 9:04:23 PM GMT+5     hajraakram506@gmail.com   \n",
       "\n",
       "                 Name   Contact No       City Age  Gender          Occupation  \\\n",
       "0          Ather Syed  17632001987   Woodbury  32    Male                  IT   \n",
       "1              Waryam   3085617139     Lahore  22    Male            Investor   \n",
       "2        Amna Tanveer   3365236845  Islamabad  24  Female             Dentist   \n",
       "3  HISAAN KHALIL NOON   3006046111  Islamabad  22    Male   LLB HONS STUDENT    \n",
       "4        Hajrah Akram   3085128162  Islamabad  25  Female  Government Servant   \n",
       "\n",
       "                                         Referred By  \n",
       "0                                           Facebook  \n",
       "1                                                NaN  \n",
       "2                                                NaN  \n",
       "3  Came across recently with the youth club page ...  \n",
       "4                                   Facebook YC page  "
      ]
     },
     "execution_count": 6,
     "metadata": {},
     "output_type": "execute_result"
    }
   ],
   "source": [
    "yc.head()"
   ]
  },
  {
   "cell_type": "code",
   "execution_count": 45,
   "metadata": {},
   "outputs": [
    {
     "data": {
      "text/plain": [
       "'2019/09/25 8:42:50 PM GMT+5'"
      ]
     },
     "execution_count": 45,
     "metadata": {},
     "output_type": "execute_result"
    }
   ],
   "source": [
    "yc.Timestamp[0]"
   ]
  },
  {
   "cell_type": "code",
   "execution_count": 46,
   "metadata": {},
   "outputs": [],
   "source": [
    "ref = [str(x).lower().strip() for x in yc[\"Referred By\"].unique()]"
   ]
  },
  {
   "cell_type": "code",
   "execution_count": 47,
   "metadata": {},
   "outputs": [
    {
     "data": {
      "text/plain": [
       "153"
      ]
     },
     "execution_count": 47,
     "metadata": {},
     "output_type": "execute_result"
    }
   ],
   "source": [
    "len(ref)"
   ]
  },
  {
   "cell_type": "code",
   "execution_count": 48,
   "metadata": {},
   "outputs": [],
   "source": [
    "refs = pd.Series(ref)"
   ]
  },
  {
   "cell_type": "code",
   "execution_count": 50,
   "metadata": {},
   "outputs": [],
   "source": [
    "refs = refs.unique()"
   ]
  },
  {
   "cell_type": "code",
   "execution_count": 51,
   "metadata": {},
   "outputs": [
    {
     "data": {
      "text/plain": [
       "153"
      ]
     },
     "execution_count": 51,
     "metadata": {},
     "output_type": "execute_result"
    }
   ],
   "source": [
    "len(ref)"
   ]
  },
  {
   "cell_type": "code",
   "execution_count": 52,
   "metadata": {},
   "outputs": [
    {
     "data": {
      "text/plain": [
       "125"
      ]
     },
     "execution_count": 52,
     "metadata": {},
     "output_type": "execute_result"
    }
   ],
   "source": [
    "len(refs)"
   ]
  },
  {
   "cell_type": "code",
   "execution_count": 106,
   "metadata": {},
   "outputs": [],
   "source": [
    "ref_count = {}\n",
    "ref_count[\"facebook\"] = 0"
   ]
  },
  {
   "cell_type": "code",
   "execution_count": 107,
   "metadata": {},
   "outputs": [],
   "source": [
    "# for i in ref:\n",
    "#     if \"facebook\" in i or \"fb\" in i:\n",
    "#         ref_count[\"facebook\"] += 1"
   ]
  },
  {
   "cell_type": "code",
   "execution_count": 108,
   "metadata": {},
   "outputs": [
    {
     "data": {
      "text/plain": [
       "{'facebook': 0}"
      ]
     },
     "execution_count": 108,
     "metadata": {},
     "output_type": "execute_result"
    }
   ],
   "source": [
    "ref_count"
   ]
  },
  {
   "cell_type": "code",
   "execution_count": 109,
   "metadata": {},
   "outputs": [],
   "source": [
    "ref_count[\"youtube\"] = 0\n",
    "ref_count[\"self\"] = 0\n",
    "ref_count[\"none\"] = 0\n",
    "ref_count[\"Muhammad Ali\"] = 0\n",
    "ref_count[\"Raja Zia Ul Haq\"] = 0\n",
    "ref_count[\"Tuaha Ibn Jalil\"] = 0\n",
    "ref_count[\"Ali Ehtesham\"] = 0\n",
    "# ref_count[\"Video\"] = 0\n",
    "# ref_count[\"VLOG\"] = 0\n",
    "ref_count[\"Others\"] = 0"
   ]
  },
  {
   "cell_type": "code",
   "execution_count": 110,
   "metadata": {},
   "outputs": [],
   "source": [
    "for i in ref:\n",
    "    if \"facebook\" in i or \"fb\" in i or \"page\" in i:\n",
    "        ref_count[\"facebook\"] += 1\n",
    "    if \"youtube\" in i or \"video\" in i:\n",
    "        ref_count[\"youtube\"] +=1\n",
    "    if \"none\" in i or \"nan\" in i:\n",
    "        ref_count[\"none\"] += 1\n",
    "    if \"muhammad\" in i:\n",
    "        ref_count[\"Muhammad Ali\"] += 1\n",
    "    if \"tuaha\" in i:\n",
    "        ref_count[\"Tuaha Ibn Jalil\"] += 1\n",
    "    if \"ehtesham\" in i or \"vlog\" in i:\n",
    "        ref_count[\"Ali Ehtesham\"] += 1\n",
    "    if \"self\" in i:\n",
    "        ref_count[\"self\"] += 1\n",
    "    if \"zia\" in i or \"raja\" in i:\n",
    "        ref_count[\"Raja Zia Ul Haq\"] += 1\n",
    "    else:\n",
    "        ref_count[\"Others\"] += 1\n",
    "        "
   ]
  },
  {
   "cell_type": "code",
   "execution_count": 111,
   "metadata": {},
   "outputs": [
    {
     "data": {
      "text/plain": [
       "{'facebook': 18,\n",
       " 'youtube': 25,\n",
       " 'self': 4,\n",
       " 'none': 3,\n",
       " 'Muhammad Ali': 1,\n",
       " 'Raja Zia Ul Haq': 11,\n",
       " 'Tuaha Ibn Jalil': 2,\n",
       " 'Ali Ehtesham': 0,\n",
       " 'Others': 142}"
      ]
     },
     "execution_count": 111,
     "metadata": {},
     "output_type": "execute_result"
    }
   ],
   "source": [
    "ref_count"
   ]
  },
  {
   "cell_type": "code",
   "execution_count": 112,
   "metadata": {},
   "outputs": [],
   "source": [
    "import seaborn as sns"
   ]
  },
  {
   "cell_type": "code",
   "execution_count": 113,
   "metadata": {},
   "outputs": [],
   "source": [
    "df = pd.DataFrame(ref_count, index=[\"Number\"])"
   ]
  },
  {
   "cell_type": "code",
   "execution_count": 114,
   "metadata": {},
   "outputs": [
    {
     "data": {
      "text/html": [
       "<div>\n",
       "<style scoped>\n",
       "    .dataframe tbody tr th:only-of-type {\n",
       "        vertical-align: middle;\n",
       "    }\n",
       "\n",
       "    .dataframe tbody tr th {\n",
       "        vertical-align: top;\n",
       "    }\n",
       "\n",
       "    .dataframe thead th {\n",
       "        text-align: right;\n",
       "    }\n",
       "</style>\n",
       "<table border=\"1\" class=\"dataframe\">\n",
       "  <thead>\n",
       "    <tr style=\"text-align: right;\">\n",
       "      <th></th>\n",
       "      <th>facebook</th>\n",
       "      <th>youtube</th>\n",
       "      <th>self</th>\n",
       "      <th>none</th>\n",
       "      <th>Muhammad Ali</th>\n",
       "      <th>Raja Zia Ul Haq</th>\n",
       "      <th>Tuaha Ibn Jalil</th>\n",
       "      <th>Ali Ehtesham</th>\n",
       "      <th>Others</th>\n",
       "    </tr>\n",
       "  </thead>\n",
       "  <tbody>\n",
       "    <tr>\n",
       "      <th>Number</th>\n",
       "      <td>18</td>\n",
       "      <td>25</td>\n",
       "      <td>4</td>\n",
       "      <td>3</td>\n",
       "      <td>1</td>\n",
       "      <td>11</td>\n",
       "      <td>2</td>\n",
       "      <td>0</td>\n",
       "      <td>142</td>\n",
       "    </tr>\n",
       "  </tbody>\n",
       "</table>\n",
       "</div>"
      ],
      "text/plain": [
       "        facebook  youtube  self  none  Muhammad Ali  Raja Zia Ul Haq  \\\n",
       "Number        18       25     4     3             1               11   \n",
       "\n",
       "        Tuaha Ibn Jalil  Ali Ehtesham  Others  \n",
       "Number                2             0     142  "
      ]
     },
     "execution_count": 114,
     "metadata": {},
     "output_type": "execute_result"
    }
   ],
   "source": [
    "df"
   ]
  },
  {
   "cell_type": "code",
   "execution_count": 115,
   "metadata": {},
   "outputs": [
    {
     "data": {
      "text/plain": [
       "<matplotlib.axes._subplots.AxesSubplot at 0x1df6ca27808>"
      ]
     },
     "execution_count": 115,
     "metadata": {},
     "output_type": "execute_result"
    },
    {
     "data": {
      "image/png": "[encoded data removed]",
      "text/plain": [
       "<Figure size 432x288 with 1 Axes>"
      ]
     },
     "metadata": {
      "needs_background": "light"
     },
     "output_type": "display_data"
    }
   ],
   "source": [
    "sns.distplot(df)"
   ]
  },
  {
   "cell_type": "code",
   "execution_count": 116,
   "metadata": {},
   "outputs": [
    {
     "data": {
      "text/plain": [
       "<matplotlib.axes._subplots.AxesSubplot at 0x1df6d4df5c8>"
      ]
     },
     "execution_count": 116,
     "metadata": {},
     "output_type": "execute_result"
    },
    {
     "data": {
      "image/png": "[encoded data removed]",
      "text/plain": [
       "<Figure size 432x288 with 1 Axes>"
      ]
     },
     "metadata": {
      "needs_background": "light"
     },
     "output_type": "display_data"
    }
   ],
   "source": [
    "df.plot()"
   ]
  },
  {
   "cell_type": "code",
   "execution_count": 117,
   "metadata": {},
   "outputs": [
    {
     "data": {
      "text/plain": [
       "<matplotlib.axes._subplots.AxesSubplot at 0x1df6e271c48>"
      ]
     },
     "execution_count": 117,
     "metadata": {},
     "output_type": "execute_result"
    },
    {
     "data": {
      "image/png": "[encoded data removed]",
      "text/plain": [
       "<Figure size 432x288 with 1 Axes>"
      ]
     },
     "metadata": {
      "needs_background": "light"
     },
     "output_type": "display_data"
    }
   ],
   "source": [
    "df.plot.barh()"
   ]
  },
  {
   "cell_type": "code",
   "execution_count": 118,
   "metadata": {},
   "outputs": [
    {
     "data": {
      "text/html": [
       "<div>\n",
       "<style scoped>\n",
       "    .dataframe tbody tr th:only-of-type {\n",
       "        vertical-align: middle;\n",
       "    }\n",
       "\n",
       "    .dataframe tbody tr th {\n",
       "        vertical-align: top;\n",
       "    }\n",
       "\n",
       "    .dataframe thead th {\n",
       "        text-align: right;\n",
       "    }\n",
       "</style>\n",
       "<table border=\"1\" class=\"dataframe\">\n",
       "  <thead>\n",
       "    <tr style=\"text-align: right;\">\n",
       "      <th></th>\n",
       "      <th>Timestamp</th>\n",
       "      <th>Username</th>\n",
       "      <th>Name</th>\n",
       "      <th>Contact No</th>\n",
       "      <th>City</th>\n",
       "      <th>Age</th>\n",
       "      <th>Gender</th>\n",
       "      <th>Occupation</th>\n",
       "      <th>Referred By</th>\n",
       "    </tr>\n",
       "  </thead>\n",
       "  <tbody>\n",
       "    <tr>\n",
       "      <th>0</th>\n",
       "      <td>2019/09/25 8:42:50 PM GMT+5</td>\n",
       "      <td>syedathermasood@gmail.com</td>\n",
       "      <td>Ather Syed</td>\n",
       "      <td>17632001987</td>\n",
       "      <td>Woodbury</td>\n",
       "      <td>32</td>\n",
       "      <td>Male</td>\n",
       "      <td>IT</td>\n",
       "      <td>Facebook</td>\n",
       "    </tr>\n",
       "    <tr>\n",
       "      <th>1</th>\n",
       "      <td>2019/09/25 8:45:33 PM GMT+5</td>\n",
       "      <td>muhammadwaryam97@gmail.com</td>\n",
       "      <td>Waryam</td>\n",
       "      <td>3085617139</td>\n",
       "      <td>Lahore</td>\n",
       "      <td>22</td>\n",
       "      <td>Male</td>\n",
       "      <td>Investor</td>\n",
       "      <td>NaN</td>\n",
       "    </tr>\n",
       "    <tr>\n",
       "      <th>2</th>\n",
       "      <td>2019/09/25 8:48:28 PM GMT+5</td>\n",
       "      <td>amnatanveer.at@gmail.com</td>\n",
       "      <td>Amna Tanveer</td>\n",
       "      <td>3365236845</td>\n",
       "      <td>Islamabad</td>\n",
       "      <td>24</td>\n",
       "      <td>Female</td>\n",
       "      <td>Dentist</td>\n",
       "      <td>NaN</td>\n",
       "    </tr>\n",
       "    <tr>\n",
       "      <th>3</th>\n",
       "      <td>2019/09/25 8:57:33 PM GMT+5</td>\n",
       "      <td>hisaankhalil@hotmail.com</td>\n",
       "      <td>HISAAN KHALIL NOON</td>\n",
       "      <td>3006046111</td>\n",
       "      <td>Islamabad</td>\n",
       "      <td>22</td>\n",
       "      <td>Male</td>\n",
       "      <td>LLB HONS STUDENT</td>\n",
       "      <td>Came across recently with the youth club page ...</td>\n",
       "    </tr>\n",
       "    <tr>\n",
       "      <th>4</th>\n",
       "      <td>2019/09/25 9:04:23 PM GMT+5</td>\n",
       "      <td>hajraakram506@gmail.com</td>\n",
       "      <td>Hajrah Akram</td>\n",
       "      <td>3085128162</td>\n",
       "      <td>Islamabad</td>\n",
       "      <td>25</td>\n",
       "      <td>Female</td>\n",
       "      <td>Government Servant</td>\n",
       "      <td>Facebook YC page</td>\n",
       "    </tr>\n",
       "    <tr>\n",
       "      <th>...</th>\n",
       "      <td>...</td>\n",
       "      <td>...</td>\n",
       "      <td>...</td>\n",
       "      <td>...</td>\n",
       "      <td>...</td>\n",
       "      <td>...</td>\n",
       "      <td>...</td>\n",
       "      <td>...</td>\n",
       "      <td>...</td>\n",
       "    </tr>\n",
       "    <tr>\n",
       "      <th>336</th>\n",
       "      <td>2020/04/01 10:44:41 PM GMT+5</td>\n",
       "      <td>lubnalatef@gmail.com</td>\n",
       "      <td>Lubna</td>\n",
       "      <td>3236074833</td>\n",
       "      <td>Faisalabad</td>\n",
       "      <td>60</td>\n",
       "      <td>Female</td>\n",
       "      <td>education</td>\n",
       "      <td>Facebook</td>\n",
       "    </tr>\n",
       "    <tr>\n",
       "      <th>337</th>\n",
       "      <td>2020/04/03 5:33:00 AM GMT+5</td>\n",
       "      <td>sairasamdani@gmail.com</td>\n",
       "      <td>Saira Samdani</td>\n",
       "      <td>46738629253</td>\n",
       "      <td>Gothenburg</td>\n",
       "      <td>37</td>\n",
       "      <td>Female</td>\n",
       "      <td>Software Engineer</td>\n",
       "      <td>NaN</td>\n",
       "    </tr>\n",
       "    <tr>\n",
       "      <th>338</th>\n",
       "      <td>2020/04/09 10:31:58 AM GMT+5</td>\n",
       "      <td>aaa899749@gmail.com</td>\n",
       "      <td>Amir aslam</td>\n",
       "      <td>34603831323</td>\n",
       "      <td>Barcelona</td>\n",
       "      <td>16</td>\n",
       "      <td>Male</td>\n",
       "      <td>G</td>\n",
       "      <td>Youth club</td>\n",
       "    </tr>\n",
       "    <tr>\n",
       "      <th>339</th>\n",
       "      <td>2020/04/12 3:02:50 PM GMT+5</td>\n",
       "      <td>qasim2713@gmail.com</td>\n",
       "      <td>Altruist</td>\n",
       "      <td>3049648849</td>\n",
       "      <td>Lahore</td>\n",
       "      <td>30</td>\n",
       "      <td>Male</td>\n",
       "      <td>FoP</td>\n",
       "      <td>Mohammad Ali</td>\n",
       "    </tr>\n",
       "    <tr>\n",
       "      <th>340</th>\n",
       "      <td>2020/04/18 5:07:53 PM GMT+5</td>\n",
       "      <td>ayyan.khan1996@hotmail.com</td>\n",
       "      <td>Rabbeyah</td>\n",
       "      <td>3244312999</td>\n",
       "      <td>Lahore</td>\n",
       "      <td>24</td>\n",
       "      <td>Female</td>\n",
       "      <td>Student</td>\n",
       "      <td>NaN</td>\n",
       "    </tr>\n",
       "  </tbody>\n",
       "</table>\n",
       "<p>341 rows × 9 columns</p>\n",
       "</div>"
      ],
      "text/plain": [
       "                        Timestamp                    Username  \\\n",
       "0     2019/09/25 8:42:50 PM GMT+5   syedathermasood@gmail.com   \n",
       "1     2019/09/25 8:45:33 PM GMT+5  muhammadwaryam97@gmail.com   \n",
       "2     2019/09/25 8:48:28 PM GMT+5    amnatanveer.at@gmail.com   \n",
       "3     2019/09/25 8:57:33 PM GMT+5    hisaankhalil@hotmail.com   \n",
       "4     2019/09/25 9:04:23 PM GMT+5     hajraakram506@gmail.com   \n",
       "..                            ...                         ...   \n",
       "336  2020/04/01 10:44:41 PM GMT+5        lubnalatef@gmail.com   \n",
       "337   2020/04/03 5:33:00 AM GMT+5      sairasamdani@gmail.com   \n",
       "338  2020/04/09 10:31:58 AM GMT+5         aaa899749@gmail.com   \n",
       "339   2020/04/12 3:02:50 PM GMT+5         qasim2713@gmail.com   \n",
       "340   2020/04/18 5:07:53 PM GMT+5  ayyan.khan1996@hotmail.com   \n",
       "\n",
       "                   Name   Contact No        City Age  Gender  \\\n",
       "0            Ather Syed  17632001987    Woodbury  32    Male   \n",
       "1                Waryam   3085617139      Lahore  22    Male   \n",
       "2          Amna Tanveer   3365236845   Islamabad  24  Female   \n",
       "3    HISAAN KHALIL NOON   3006046111   Islamabad  22    Male   \n",
       "4          Hajrah Akram   3085128162   Islamabad  25  Female   \n",
       "..                  ...          ...         ...  ..     ...   \n",
       "336               Lubna   3236074833  Faisalabad  60  Female   \n",
       "337       Saira Samdani  46738629253  Gothenburg  37  Female   \n",
       "338          Amir aslam  34603831323   Barcelona  16    Male   \n",
       "339            Altruist   3049648849      Lahore  30    Male   \n",
       "340            Rabbeyah   3244312999      Lahore  24  Female   \n",
       "\n",
       "             Occupation                                        Referred By  \n",
       "0                    IT                                           Facebook  \n",
       "1              Investor                                                NaN  \n",
       "2               Dentist                                                NaN  \n",
       "3     LLB HONS STUDENT   Came across recently with the youth club page ...  \n",
       "4    Government Servant                                   Facebook YC page  \n",
       "..                  ...                                                ...  \n",
       "336           education                                           Facebook  \n",
       "337   Software Engineer                                                NaN  \n",
       "338                   G                                         Youth club  \n",
       "339                 FoP                                       Mohammad Ali  \n",
       "340             Student                                                NaN  \n",
       "\n",
       "[341 rows x 9 columns]"
      ]
     },
     "execution_count": 118,
     "metadata": {},
     "output_type": "execute_result"
    }
   ],
   "source": [
    "yc"
   ]
  },
  {
   "cell_type": "code",
   "execution_count": 137,
   "metadata": {},
   "outputs": [],
   "source": [
    "city = yc[\"City\"]\n"
   ]
  },
  {
   "cell_type": "code",
   "execution_count": 138,
   "metadata": {},
   "outputs": [
    {
     "data": {
      "text/plain": [
       "115"
      ]
     },
     "execution_count": 138,
     "metadata": {},
     "output_type": "execute_result"
    }
   ],
   "source": [
    "city.unique().size"
   ]
  },
  {
   "cell_type": "code",
   "execution_count": 139,
   "metadata": {},
   "outputs": [],
   "source": [
    "city = city.str.lower()"
   ]
  },
  {
   "cell_type": "code",
   "execution_count": 140,
   "metadata": {},
   "outputs": [
    {
     "data": {
      "text/plain": [
       "104"
      ]
     },
     "execution_count": 140,
     "metadata": {},
     "output_type": "execute_result"
    }
   ],
   "source": [
    "city.unique().size"
   ]
  },
  {
   "cell_type": "code",
   "execution_count": 157,
   "metadata": {},
   "outputs": [],
   "source": [
    "cities = city.unique()"
   ]
  },
  {
   "cell_type": "code",
   "execution_count": 158,
   "metadata": {},
   "outputs": [
    {
     "data": {
      "text/html": [
       "<div>\n",
       "<style scoped>\n",
       "    .dataframe tbody tr th:only-of-type {\n",
       "        vertical-align: middle;\n",
       "    }\n",
       "\n",
       "    .dataframe tbody tr th {\n",
       "        vertical-align: top;\n",
       "    }\n",
       "\n",
       "    .dataframe thead th {\n",
       "        text-align: right;\n",
       "    }\n",
       "</style>\n",
       "<table border=\"1\" class=\"dataframe\">\n",
       "  <thead>\n",
       "    <tr style=\"text-align: right;\">\n",
       "      <th></th>\n",
       "      <th>Timestamp</th>\n",
       "      <th>Username</th>\n",
       "      <th>Name</th>\n",
       "      <th>Contact No</th>\n",
       "      <th>City</th>\n",
       "      <th>Age</th>\n",
       "      <th>Gender</th>\n",
       "      <th>Occupation</th>\n",
       "      <th>Referred By</th>\n",
       "    </tr>\n",
       "  </thead>\n",
       "  <tbody>\n",
       "    <tr>\n",
       "      <th>151</th>\n",
       "      <td>2019/09/28 4:06:50 AM GMT+5</td>\n",
       "      <td>koolgoose2@gmail.com</td>\n",
       "      <td>No Name</td>\n",
       "      <td>0</td>\n",
       "      <td>Mianwali</td>\n",
       "      <td>30</td>\n",
       "      <td>Female</td>\n",
       "      <td>Teacher</td>\n",
       "      <td>Youtube - , I prefer to be contacted be email. T</td>\n",
       "    </tr>\n",
       "  </tbody>\n",
       "</table>\n",
       "</div>"
      ],
      "text/plain": [
       "                       Timestamp              Username      Name  Contact No  \\\n",
       "151  2019/09/28 4:06:50 AM GMT+5  koolgoose2@gmail.com  No Name            0   \n",
       "\n",
       "         City Age  Gender Occupation  \\\n",
       "151  Mianwali  30  Female    Teacher   \n",
       "\n",
       "                                          Referred By  \n",
       "151  Youtube - , I prefer to be contacted be email. T  "
      ]
     },
     "execution_count": 158,
     "metadata": {},
     "output_type": "execute_result"
    }
   ],
   "source": [
    "yc[yc[\"City\"]==\"Mianwali\"]"
   ]
  },
  {
   "cell_type": "code",
   "execution_count": 159,
   "metadata": {},
   "outputs": [
    {
     "data": {
      "text/plain": [
       "array(['woodbury', 'lahore', 'islamabad', 'doha', 'sydney ', 'lahore ',\n",
       "       'karachi', 'islamabad ', 'sahiwal', 'jeddah', 'attock',\n",
       "       'rawalpindi', 'rawalpindi ', 'india,kolkata', 'london ',\n",
       "       'lyndon road', 'toba tak singh', 'al muharraq', 'southend on sea',\n",
       "       'okara', 'philadelphia pa usa', 'brescia, italy', 'manama',\n",
       "       'manama bahrain ', 'huddersfield', 'gujranwala', 'sialkot',\n",
       "       'germany', 'chuadanga', 'mannheim ', 'milton canada', 'riyadh',\n",
       "       'talagang ', 'stavanger (norway)', 'saint jospeh,mo usa',\n",
       "       'wah cantt', 'shahdadpur', 'singapore ', 'melbourne', 'hong kong ',\n",
       "       'dubai', 'riyadh, ksa.', 'abbottabad',\n",
       "       'mardan(pakistan)/mascat(oman)', 'unnao', 'melbourne, australia',\n",
       "       'multan', 'springvale', 'cambridge (uk)', 'taxila', 'richmond',\n",
       "       'mirpur ajk', 'bangladesh ', 'abu dhabi', 'tampere', 'marcellina',\n",
       "       'guildford', 'fateh jang', 'dhaka, bangladesh', 'indore ( india)',\n",
       "       'hasilpur', 'm', 'peshawar', 'muscat', 'ypsilanti', 'houston',\n",
       "       'carol stream', 'west bromwich, west midlands', 'mianwali',\n",
       "       'bradford', 'rawal pindi', 'khobar', 'mannheim, germany', 'dallas',\n",
       "       'abbotabad', 'jhelum', 'alain', 'chicago usa', 'karachi ',\n",
       "       'rawaplpindi', 'rawapindi', 'birmingham', 'westmidlands', 'dammam',\n",
       "       'adelaide ', 'luton', 'faisalabad', 'daly city', 'perth',\n",
       "       'mirpur & rawalpindi', 'jeddah/karachi', 'örebro',\n",
       "       'variable (current: lahore)', 'brooklyn', 'lahore/chinniot',\n",
       "       'roorkee.', 'india', 'st. joseph', 'madina', 'jahanian',\n",
       "       'riyadh saudi arabia', 'dietzenbach ', 'gothenburg', 'barcelona'],\n",
       "      dtype=object)"
      ]
     },
     "execution_count": 159,
     "metadata": {},
     "output_type": "execute_result"
    }
   ],
   "source": [
    "cities"
   ]
  },
  {
   "cell_type": "code",
   "execution_count": 161,
   "metadata": {},
   "outputs": [],
   "source": [
    "# city_grouping = yc[[city]].groupby('city')\n",
    "# # MaxFrequency_perWord = word_grouping[['frequency']].max().reset_index()\n",
    "# # MaxFrequency_perWord.columns = ['word','MaxFrequency']"
   ]
  },
  {
   "cell_type": "code",
   "execution_count": 163,
   "metadata": {},
   "outputs": [
    {
     "data": {
      "text/plain": [
       "Lahore                  53\n",
       "Karachi                 48\n",
       "Islamabad               40\n",
       "Islamabad               23\n",
       "Rawalpindi              18\n",
       "                        ..\n",
       "Muscat                   1\n",
       "Lyndon road              1\n",
       "Melbourne, Australia     1\n",
       "Dallas                   1\n",
       "Abbottabad               1\n",
       "Name: City, Length: 115, dtype: int64"
      ]
     },
     "execution_count": 163,
     "metadata": {},
     "output_type": "execute_result"
    }
   ],
   "source": [
    "yc[\"City\"].value_counts()"
   ]
  },
  {
   "cell_type": "code",
   "execution_count": 169,
   "metadata": {},
   "outputs": [
    {
     "data": {
      "text/plain": [
       "lahore                        57\n",
       "karachi                       51\n",
       "islamabad                     45\n",
       "islamabad                     23\n",
       "rawalpindi                    19\n",
       "lahore                        10\n",
       "abu dhabi                      4\n",
       "dubai                          4\n",
       "okara                          4\n",
       "jeddah                         3\n",
       "wah cantt                      3\n",
       "gujranwala                     3\n",
       "karachi                        3\n",
       "faisalabad                     3\n",
       "doha                           3\n",
       "rawalpindi                     3\n",
       "sydney                         3\n",
       "multan                         3\n",
       "alain                          3\n",
       "london                         2\n",
       "peshawar                       2\n",
       "marcellina                     2\n",
       "sialkot                        2\n",
       "bradford                       2\n",
       "carol stream                   2\n",
       "jeddah/karachi                 2\n",
       "richmond                       2\n",
       "houston                        2\n",
       "bangladesh                     1\n",
       "variable (current: lahore)     1\n",
       "singapore                      1\n",
       "hasilpur                       1\n",
       "manama bahrain                 1\n",
       "daly city                      1\n",
       "al muharraq                    1\n",
       "lyndon road                    1\n",
       "mannheim, germany              1\n",
       "mannheim                       1\n",
       "perth                          1\n",
       "southend on sea                1\n",
       "ypsilanti                      1\n",
       "m                              1\n",
       "örebro                         1\n",
       "philadelphia pa usa            1\n",
       "roorkee.                       1\n",
       "manama                         1\n",
       "hong kong                      1\n",
       "saint jospeh,mo usa            1\n",
       "barcelona                      1\n",
       "muscat                         1\n",
       "Name: City, dtype: int64"
      ]
     },
     "execution_count": 169,
     "metadata": {},
     "output_type": "execute_result"
    }
   ],
   "source": [
    "city.value_counts().head(50)"
   ]
  },
  {
   "cell_type": "code",
   "execution_count": 170,
   "metadata": {},
   "outputs": [],
   "source": [
    "city_freq = {\n",
    "\"lahore\"                        :67,\n",
    "\"karachi\"                       :54,\n",
    "\"islamabad\"                    : 68,\n",
    "\"rawalpindi\"                   : 22,\n",
    "\"abu dhabi\"                     : 4,\n",
    "\"dubai\"                         : 4,\n",
    "\"okara\"                         : 4,\n",
    "}"
   ]
  },
  {
   "cell_type": "code",
   "execution_count": 172,
   "metadata": {},
   "outputs": [],
   "source": [
    "city_df = pd.DataFrame(city_freq, index = [\"Number\"])"
   ]
  },
  {
   "cell_type": "code",
   "execution_count": 173,
   "metadata": {},
   "outputs": [
    {
     "data": {
      "text/html": [
       "<div>\n",
       "<style scoped>\n",
       "    .dataframe tbody tr th:only-of-type {\n",
       "        vertical-align: middle;\n",
       "    }\n",
       "\n",
       "    .dataframe tbody tr th {\n",
       "        vertical-align: top;\n",
       "    }\n",
       "\n",
       "    .dataframe thead th {\n",
       "        text-align: right;\n",
       "    }\n",
       "</style>\n",
       "<table border=\"1\" class=\"dataframe\">\n",
       "  <thead>\n",
       "    <tr style=\"text-align: right;\">\n",
       "      <th></th>\n",
       "      <th>lahore</th>\n",
       "      <th>karachi</th>\n",
       "      <th>islamabad</th>\n",
       "      <th>rawalpindi</th>\n",
       "      <th>abu dhabi</th>\n",
       "      <th>dubai</th>\n",
       "      <th>okara</th>\n",
       "    </tr>\n",
       "  </thead>\n",
       "  <tbody>\n",
       "    <tr>\n",
       "      <th>Number</th>\n",
       "      <td>67</td>\n",
       "      <td>54</td>\n",
       "      <td>68</td>\n",
       "      <td>22</td>\n",
       "      <td>4</td>\n",
       "      <td>4</td>\n",
       "      <td>4</td>\n",
       "    </tr>\n",
       "  </tbody>\n",
       "</table>\n",
       "</div>"
      ],
      "text/plain": [
       "        lahore  karachi  islamabad  rawalpindi  abu dhabi  dubai  okara\n",
       "Number      67       54         68          22          4      4      4"
      ]
     },
     "execution_count": 173,
     "metadata": {},
     "output_type": "execute_result"
    }
   ],
   "source": [
    "city_df"
   ]
  },
  {
   "cell_type": "code",
   "execution_count": 175,
   "metadata": {},
   "outputs": [
    {
     "data": {
      "text/plain": [
       "<matplotlib.axes._subplots.AxesSubplot at 0x1df700d1a48>"
      ]
     },
     "execution_count": 175,
     "metadata": {},
     "output_type": "execute_result"
    },
    {
     "data": {
      "image/png": "[encoded data removed]",
      "text/plain": [
       "<Figure size 432x288 with 1 Axes>"
      ]
     },
     "metadata": {
      "needs_background": "light"
     },
     "output_type": "display_data"
    }
   ],
   "source": [
    "city_df.plot.bar()"
   ]
  },
  {
   "cell_type": "code",
   "execution_count": 188,
   "metadata": {},
   "outputs": [
    {
     "data": {
      "text/plain": [
       "<matplotlib.axes._subplots.AxesSubplot at 0x1df707b8208>"
      ]
     },
     "execution_count": 188,
     "metadata": {},
     "output_type": "execute_result"
    },
    {
     "data": {
      "image/png": "[encoded data removed]",
      "text/plain": [
       "<Figure size 432x288 with 1 Axes>"
      ]
     },
     "metadata": {
      "needs_background": "light"
     },
     "output_type": "display_data"
    }
   ],
   "source": [
    "city_df.plot.bar"
   ]
  },
  {
   "cell_type": "code",
   "execution_count": 189,
   "metadata": {},
   "outputs": [
    {
     "data": {
      "text/html": [
       "<div>\n",
       "<style scoped>\n",
       "    .dataframe tbody tr th:only-of-type {\n",
       "        vertical-align: middle;\n",
       "    }\n",
       "\n",
       "    .dataframe tbody tr th {\n",
       "        vertical-align: top;\n",
       "    }\n",
       "\n",
       "    .dataframe thead th {\n",
       "        text-align: right;\n",
       "    }\n",
       "</style>\n",
       "<table border=\"1\" class=\"dataframe\">\n",
       "  <thead>\n",
       "    <tr style=\"text-align: right;\">\n",
       "      <th></th>\n",
       "      <th>Timestamp</th>\n",
       "      <th>Username</th>\n",
       "      <th>Name</th>\n",
       "      <th>Contact No</th>\n",
       "      <th>City</th>\n",
       "      <th>Age</th>\n",
       "      <th>Gender</th>\n",
       "      <th>Occupation</th>\n",
       "      <th>Referred By</th>\n",
       "    </tr>\n",
       "  </thead>\n",
       "  <tbody>\n",
       "    <tr>\n",
       "      <th>0</th>\n",
       "      <td>2019/09/25 8:42:50 PM GMT+5</td>\n",
       "      <td>syedathermasood@gmail.com</td>\n",
       "      <td>Ather Syed</td>\n",
       "      <td>17632001987</td>\n",
       "      <td>Woodbury</td>\n",
       "      <td>32</td>\n",
       "      <td>Male</td>\n",
       "      <td>IT</td>\n",
       "      <td>Facebook</td>\n",
       "    </tr>\n",
       "    <tr>\n",
       "      <th>1</th>\n",
       "      <td>2019/09/25 8:45:33 PM GMT+5</td>\n",
       "      <td>muhammadwaryam97@gmail.com</td>\n",
       "      <td>Waryam</td>\n",
       "      <td>3085617139</td>\n",
       "      <td>Lahore</td>\n",
       "      <td>22</td>\n",
       "      <td>Male</td>\n",
       "      <td>Investor</td>\n",
       "      <td>NaN</td>\n",
       "    </tr>\n",
       "    <tr>\n",
       "      <th>2</th>\n",
       "      <td>2019/09/25 8:48:28 PM GMT+5</td>\n",
       "      <td>amnatanveer.at@gmail.com</td>\n",
       "      <td>Amna Tanveer</td>\n",
       "      <td>3365236845</td>\n",
       "      <td>Islamabad</td>\n",
       "      <td>24</td>\n",
       "      <td>Female</td>\n",
       "      <td>Dentist</td>\n",
       "      <td>NaN</td>\n",
       "    </tr>\n",
       "    <tr>\n",
       "      <th>3</th>\n",
       "      <td>2019/09/25 8:57:33 PM GMT+5</td>\n",
       "      <td>hisaankhalil@hotmail.com</td>\n",
       "      <td>HISAAN KHALIL NOON</td>\n",
       "      <td>3006046111</td>\n",
       "      <td>Islamabad</td>\n",
       "      <td>22</td>\n",
       "      <td>Male</td>\n",
       "      <td>LLB HONS STUDENT</td>\n",
       "      <td>Came across recently with the youth club page ...</td>\n",
       "    </tr>\n",
       "    <tr>\n",
       "      <th>4</th>\n",
       "      <td>2019/09/25 9:04:23 PM GMT+5</td>\n",
       "      <td>hajraakram506@gmail.com</td>\n",
       "      <td>Hajrah Akram</td>\n",
       "      <td>3085128162</td>\n",
       "      <td>Islamabad</td>\n",
       "      <td>25</td>\n",
       "      <td>Female</td>\n",
       "      <td>Government Servant</td>\n",
       "      <td>Facebook YC page</td>\n",
       "    </tr>\n",
       "    <tr>\n",
       "      <th>...</th>\n",
       "      <td>...</td>\n",
       "      <td>...</td>\n",
       "      <td>...</td>\n",
       "      <td>...</td>\n",
       "      <td>...</td>\n",
       "      <td>...</td>\n",
       "      <td>...</td>\n",
       "      <td>...</td>\n",
       "      <td>...</td>\n",
       "    </tr>\n",
       "    <tr>\n",
       "      <th>336</th>\n",
       "      <td>2020/04/01 10:44:41 PM GMT+5</td>\n",
       "      <td>lubnalatef@gmail.com</td>\n",
       "      <td>Lubna</td>\n",
       "      <td>3236074833</td>\n",
       "      <td>Faisalabad</td>\n",
       "      <td>60</td>\n",
       "      <td>Female</td>\n",
       "      <td>education</td>\n",
       "      <td>Facebook</td>\n",
       "    </tr>\n",
       "    <tr>\n",
       "      <th>337</th>\n",
       "      <td>2020/04/03 5:33:00 AM GMT+5</td>\n",
       "      <td>sairasamdani@gmail.com</td>\n",
       "      <td>Saira Samdani</td>\n",
       "      <td>46738629253</td>\n",
       "      <td>Gothenburg</td>\n",
       "      <td>37</td>\n",
       "      <td>Female</td>\n",
       "      <td>Software Engineer</td>\n",
       "      <td>NaN</td>\n",
       "    </tr>\n",
       "    <tr>\n",
       "      <th>338</th>\n",
       "      <td>2020/04/09 10:31:58 AM GMT+5</td>\n",
       "      <td>aaa899749@gmail.com</td>\n",
       "      <td>Amir aslam</td>\n",
       "      <td>34603831323</td>\n",
       "      <td>Barcelona</td>\n",
       "      <td>16</td>\n",
       "      <td>Male</td>\n",
       "      <td>G</td>\n",
       "      <td>Youth club</td>\n",
       "    </tr>\n",
       "    <tr>\n",
       "      <th>339</th>\n",
       "      <td>2020/04/12 3:02:50 PM GMT+5</td>\n",
       "      <td>qasim2713@gmail.com</td>\n",
       "      <td>Altruist</td>\n",
       "      <td>3049648849</td>\n",
       "      <td>Lahore</td>\n",
       "      <td>30</td>\n",
       "      <td>Male</td>\n",
       "      <td>FoP</td>\n",
       "      <td>Mohammad Ali</td>\n",
       "    </tr>\n",
       "    <tr>\n",
       "      <th>340</th>\n",
       "      <td>2020/04/18 5:07:53 PM GMT+5</td>\n",
       "      <td>ayyan.khan1996@hotmail.com</td>\n",
       "      <td>Rabbeyah</td>\n",
       "      <td>3244312999</td>\n",
       "      <td>Lahore</td>\n",
       "      <td>24</td>\n",
       "      <td>Female</td>\n",
       "      <td>Student</td>\n",
       "      <td>NaN</td>\n",
       "    </tr>\n",
       "  </tbody>\n",
       "</table>\n",
       "<p>341 rows × 9 columns</p>\n",
       "</div>"
      ],
      "text/plain": [
       "                        Timestamp                    Username  \\\n",
       "0     2019/09/25 8:42:50 PM GMT+5   syedathermasood@gmail.com   \n",
       "1     2019/09/25 8:45:33 PM GMT+5  muhammadwaryam97@gmail.com   \n",
       "2     2019/09/25 8:48:28 PM GMT+5    amnatanveer.at@gmail.com   \n",
       "3     2019/09/25 8:57:33 PM GMT+5    hisaankhalil@hotmail.com   \n",
       "4     2019/09/25 9:04:23 PM GMT+5     hajraakram506@gmail.com   \n",
       "..                            ...                         ...   \n",
       "336  2020/04/01 10:44:41 PM GMT+5        lubnalatef@gmail.com   \n",
       "337   2020/04/03 5:33:00 AM GMT+5      sairasamdani@gmail.com   \n",
       "338  2020/04/09 10:31:58 AM GMT+5         aaa899749@gmail.com   \n",
       "339   2020/04/12 3:02:50 PM GMT+5         qasim2713@gmail.com   \n",
       "340   2020/04/18 5:07:53 PM GMT+5  ayyan.khan1996@hotmail.com   \n",
       "\n",
       "                   Name   Contact No        City Age  Gender  \\\n",
       "0            Ather Syed  17632001987    Woodbury  32    Male   \n",
       "1                Waryam   3085617139      Lahore  22    Male   \n",
       "2          Amna Tanveer   3365236845   Islamabad  24  Female   \n",
       "3    HISAAN KHALIL NOON   3006046111   Islamabad  22    Male   \n",
       "4          Hajrah Akram   3085128162   Islamabad  25  Female   \n",
       "..                  ...          ...         ...  ..     ...   \n",
       "336               Lubna   3236074833  Faisalabad  60  Female   \n",
       "337       Saira Samdani  46738629253  Gothenburg  37  Female   \n",
       "338          Amir aslam  34603831323   Barcelona  16    Male   \n",
       "339            Altruist   3049648849      Lahore  30    Male   \n",
       "340            Rabbeyah   3244312999      Lahore  24  Female   \n",
       "\n",
       "             Occupation                                        Referred By  \n",
       "0                    IT                                           Facebook  \n",
       "1              Investor                                                NaN  \n",
       "2               Dentist                                                NaN  \n",
       "3     LLB HONS STUDENT   Came across recently with the youth club page ...  \n",
       "4    Government Servant                                   Facebook YC page  \n",
       "..                  ...                                                ...  \n",
       "336           education                                           Facebook  \n",
       "337   Software Engineer                                                NaN  \n",
       "338                   G                                         Youth club  \n",
       "339                 FoP                                       Mohammad Ali  \n",
       "340             Student                                                NaN  \n",
       "\n",
       "[341 rows x 9 columns]"
      ]
     },
     "execution_count": 189,
     "metadata": {},
     "output_type": "execute_result"
    }
   ],
   "source": [
    "yc"
   ]
  },
  {
   "cell_type": "code",
   "execution_count": 219,
   "metadata": {},
   "outputs": [],
   "source": [
    "times = yc[\"Timestamp\"]"
   ]
  },
  {
   "cell_type": "code",
   "execution_count": 220,
   "metadata": {},
   "outputs": [],
   "source": [
    "times = times.str.strip()"
   ]
  },
  {
   "cell_type": "code",
   "execution_count": 222,
   "metadata": {},
   "outputs": [],
   "source": [
    "dates = times.str.slice(start=0, stop=10)"
   ]
  },
  {
   "cell_type": "code",
   "execution_count": 223,
   "metadata": {},
   "outputs": [
    {
     "data": {
      "text/plain": [
       "0      2019/09/25\n",
       "1      2019/09/25\n",
       "2      2019/09/25\n",
       "3      2019/09/25\n",
       "4      2019/09/25\n",
       "          ...    \n",
       "336    2020/04/01\n",
       "337    2020/04/03\n",
       "338    2020/04/09\n",
       "339    2020/04/12\n",
       "340    2020/04/18\n",
       "Name: Timestamp, Length: 341, dtype: object"
      ]
     },
     "execution_count": 223,
     "metadata": {},
     "output_type": "execute_result"
    }
   ],
   "source": [
    "dates"
   ]
  },
  {
   "cell_type": "code",
   "execution_count": 228,
   "metadata": {},
   "outputs": [
    {
     "data": {
      "text/plain": [
       "<matplotlib.axes._subplots.AxesSubplot at 0x1df71c43488>"
      ]
     },
     "execution_count": 228,
     "metadata": {},
     "output_type": "execute_result"
    },
    {
     "data": {
      "image/png": "[encoded data removed]",
      "text/plain": [
       "<Figure size 432x288 with 1 Axes>"
      ]
     },
     "metadata": {
      "needs_background": "light"
     },
     "output_type": "display_data"
    }
   ],
   "source": [
    "dates.value_counts().head(20).plot.barh()"
   ]
  },
  {
   "cell_type": "code",
   "execution_count": 229,
   "metadata": {},
   "outputs": [],
   "source": [
    "yc[\"Dates\"] = dates"
   ]
  },
  {
   "cell_type": "code",
   "execution_count": 233,
   "metadata": {},
   "outputs": [],
   "source": [
    "day = yc[yc[\"Dates\"]==\"2019/09/26\"]"
   ]
  },
  {
   "cell_type": "code",
   "execution_count": 247,
   "metadata": {},
   "outputs": [
    {
     "data": {
      "text/plain": [
       "<matplotlib.axes._subplots.AxesSubplot at 0x1df71abf488>"
      ]
     },
     "execution_count": 247,
     "metadata": {},
     "output_type": "execute_result"
    },
    {
     "data": {
      "image/png": "[encoded data removed]",
      "text/plain": [
       "<Figure size 432x288 with 1 Axes>"
      ]
     },
     "metadata": {
      "needs_background": "light"
     },
     "output_type": "display_data"
    }
   ],
   "source": [
    "day[\"Timestamp\"].str.slice(11,13).str.strip(\":\").value_counts().plot.barh()"
   ]
  },
  {
   "cell_type": "code",
   "execution_count": 259,
   "metadata": {},
   "outputs": [],
   "source": [
    "pm_trues = day[\"Timestamp\"].str.find(\"AM\") == -1"
   ]
  },
  {
   "cell_type": "code",
   "execution_count": 260,
   "metadata": {},
   "outputs": [],
   "source": [
    "pm_trues[pm_trues==True] = \"PM\""
   ]
  },
  {
   "cell_type": "code",
   "execution_count": 261,
   "metadata": {},
   "outputs": [],
   "source": [
    "pm_trues[pm_trues==False] = \"AM\""
   ]
  },
  {
   "cell_type": "code",
   "execution_count": 262,
   "metadata": {},
   "outputs": [
    {
     "data": {
      "text/plain": [
       "30     AM\n",
       "31     AM\n",
       "32     AM\n",
       "33     AM\n",
       "34     AM\n",
       "       ..\n",
       "111    PM\n",
       "112    PM\n",
       "113    PM\n",
       "114    PM\n",
       "115    PM\n",
       "Name: Timestamp, Length: 86, dtype: object"
      ]
     },
     "execution_count": 262,
     "metadata": {},
     "output_type": "execute_result"
    }
   ],
   "source": [
    "pm_trues+"
   ]
  },
  {
   "cell_type": "code",
   "execution_count": 264,
   "metadata": {},
   "outputs": [],
   "source": [
    "hours = day[\"Timestamp\"].str.slice(11,13).str.strip(\":\")"
   ]
  },
  {
   "cell_type": "code",
   "execution_count": 267,
   "metadata": {},
   "outputs": [
    {
     "data": {
      "text/plain": [
       "<bound method PlotAccessor.barh of <pandas.plotting._core.PlotAccessor object at 0x000001DF7C954D48>>"
      ]
     },
     "execution_count": 267,
     "metadata": {},
     "output_type": "execute_result"
    }
   ],
   "source": [
    "(hours + pm_trues).value_counts().plot.barh"
   ]
  },
  {
   "cell_type": "code",
   "execution_count": 270,
   "metadata": {},
   "outputs": [
    {
     "data": {
      "text/plain": [
       "Male      211\n",
       "Female    130\n",
       "Name: Gender, dtype: int64"
      ]
     },
     "execution_count": 270,
     "metadata": {},
     "output_type": "execute_result"
    }
   ],
   "source": [
    "yc[\"Gender\"].value_counts()"
   ]
  },
  {
   "cell_type": "code",
   "execution_count": 271,
   "metadata": {},
   "outputs": [
    {
     "data": {
      "text/html": [
       "<div>\n",
       "<style scoped>\n",
       "    .dataframe tbody tr th:only-of-type {\n",
       "        vertical-align: middle;\n",
       "    }\n",
       "\n",
       "    .dataframe tbody tr th {\n",
       "        vertical-align: top;\n",
       "    }\n",
       "\n",
       "    .dataframe thead th {\n",
       "        text-align: right;\n",
       "    }\n",
       "</style>\n",
       "<table border=\"1\" class=\"dataframe\">\n",
       "  <thead>\n",
       "    <tr style=\"text-align: right;\">\n",
       "      <th></th>\n",
       "      <th>Timestamp</th>\n",
       "      <th>Username</th>\n",
       "      <th>Name</th>\n",
       "      <th>Contact No</th>\n",
       "      <th>City</th>\n",
       "      <th>Age</th>\n",
       "      <th>Gender</th>\n",
       "      <th>Occupation</th>\n",
       "      <th>Referred By</th>\n",
       "      <th>Dates</th>\n",
       "    </tr>\n",
       "  </thead>\n",
       "  <tbody>\n",
       "    <tr>\n",
       "      <th>0</th>\n",
       "      <td>2019/09/25 8:42:50 PM GMT+5</td>\n",
       "      <td>syedathermasood@gmail.com</td>\n",
       "      <td>Ather Syed</td>\n",
       "      <td>17632001987</td>\n",
       "      <td>Woodbury</td>\n",
       "      <td>32</td>\n",
       "      <td>Male</td>\n",
       "      <td>IT</td>\n",
       "      <td>Facebook</td>\n",
       "      <td>2019/09/25</td>\n",
       "    </tr>\n",
       "    <tr>\n",
       "      <th>1</th>\n",
       "      <td>2019/09/25 8:45:33 PM GMT+5</td>\n",
       "      <td>muhammadwaryam97@gmail.com</td>\n",
       "      <td>Waryam</td>\n",
       "      <td>3085617139</td>\n",
       "      <td>Lahore</td>\n",
       "      <td>22</td>\n",
       "      <td>Male</td>\n",
       "      <td>Investor</td>\n",
       "      <td>NaN</td>\n",
       "      <td>2019/09/25</td>\n",
       "    </tr>\n",
       "    <tr>\n",
       "      <th>2</th>\n",
       "      <td>2019/09/25 8:48:28 PM GMT+5</td>\n",
       "      <td>amnatanveer.at@gmail.com</td>\n",
       "      <td>Amna Tanveer</td>\n",
       "      <td>3365236845</td>\n",
       "      <td>Islamabad</td>\n",
       "      <td>24</td>\n",
       "      <td>Female</td>\n",
       "      <td>Dentist</td>\n",
       "      <td>NaN</td>\n",
       "      <td>2019/09/25</td>\n",
       "    </tr>\n",
       "    <tr>\n",
       "      <th>3</th>\n",
       "      <td>2019/09/25 8:57:33 PM GMT+5</td>\n",
       "      <td>hisaankhalil@hotmail.com</td>\n",
       "      <td>HISAAN KHALIL NOON</td>\n",
       "      <td>3006046111</td>\n",
       "      <td>Islamabad</td>\n",
       "      <td>22</td>\n",
       "      <td>Male</td>\n",
       "      <td>LLB HONS STUDENT</td>\n",
       "      <td>Came across recently with the youth club page ...</td>\n",
       "      <td>2019/09/25</td>\n",
       "    </tr>\n",
       "    <tr>\n",
       "      <th>4</th>\n",
       "      <td>2019/09/25 9:04:23 PM GMT+5</td>\n",
       "      <td>hajraakram506@gmail.com</td>\n",
       "      <td>Hajrah Akram</td>\n",
       "      <td>3085128162</td>\n",
       "      <td>Islamabad</td>\n",
       "      <td>25</td>\n",
       "      <td>Female</td>\n",
       "      <td>Government Servant</td>\n",
       "      <td>Facebook YC page</td>\n",
       "      <td>2019/09/25</td>\n",
       "    </tr>\n",
       "    <tr>\n",
       "      <th>...</th>\n",
       "      <td>...</td>\n",
       "      <td>...</td>\n",
       "      <td>...</td>\n",
       "      <td>...</td>\n",
       "      <td>...</td>\n",
       "      <td>...</td>\n",
       "      <td>...</td>\n",
       "      <td>...</td>\n",
       "      <td>...</td>\n",
       "      <td>...</td>\n",
       "    </tr>\n",
       "    <tr>\n",
       "      <th>336</th>\n",
       "      <td>2020/04/01 10:44:41 PM GMT+5</td>\n",
       "      <td>lubnalatef@gmail.com</td>\n",
       "      <td>Lubna</td>\n",
       "      <td>3236074833</td>\n",
       "      <td>Faisalabad</td>\n",
       "      <td>60</td>\n",
       "      <td>Female</td>\n",
       "      <td>education</td>\n",
       "      <td>Facebook</td>\n",
       "      <td>2020/04/01</td>\n",
       "    </tr>\n",
       "    <tr>\n",
       "      <th>337</th>\n",
       "      <td>2020/04/03 5:33:00 AM GMT+5</td>\n",
       "      <td>sairasamdani@gmail.com</td>\n",
       "      <td>Saira Samdani</td>\n",
       "      <td>46738629253</td>\n",
       "      <td>Gothenburg</td>\n",
       "      <td>37</td>\n",
       "      <td>Female</td>\n",
       "      <td>Software Engineer</td>\n",
       "      <td>NaN</td>\n",
       "      <td>2020/04/03</td>\n",
       "    </tr>\n",
       "    <tr>\n",
       "      <th>338</th>\n",
       "      <td>2020/04/09 10:31:58 AM GMT+5</td>\n",
       "      <td>aaa899749@gmail.com</td>\n",
       "      <td>Amir aslam</td>\n",
       "      <td>34603831323</td>\n",
       "      <td>Barcelona</td>\n",
       "      <td>16</td>\n",
       "      <td>Male</td>\n",
       "      <td>G</td>\n",
       "      <td>Youth club</td>\n",
       "      <td>2020/04/09</td>\n",
       "    </tr>\n",
       "    <tr>\n",
       "      <th>339</th>\n",
       "      <td>2020/04/12 3:02:50 PM GMT+5</td>\n",
       "      <td>qasim2713@gmail.com</td>\n",
       "      <td>Altruist</td>\n",
       "      <td>3049648849</td>\n",
       "      <td>Lahore</td>\n",
       "      <td>30</td>\n",
       "      <td>Male</td>\n",
       "      <td>FoP</td>\n",
       "      <td>Mohammad Ali</td>\n",
       "      <td>2020/04/12</td>\n",
       "    </tr>\n",
       "    <tr>\n",
       "      <th>340</th>\n",
       "      <td>2020/04/18 5:07:53 PM GMT+5</td>\n",
       "      <td>ayyan.khan1996@hotmail.com</td>\n",
       "      <td>Rabbeyah</td>\n",
       "      <td>3244312999</td>\n",
       "      <td>Lahore</td>\n",
       "      <td>24</td>\n",
       "      <td>Female</td>\n",
       "      <td>Student</td>\n",
       "      <td>NaN</td>\n",
       "      <td>2020/04/18</td>\n",
       "    </tr>\n",
       "  </tbody>\n",
       "</table>\n",
       "<p>341 rows × 10 columns</p>\n",
       "</div>"
      ],
      "text/plain": [
       "                        Timestamp                    Username  \\\n",
       "0     2019/09/25 8:42:50 PM GMT+5   syedathermasood@gmail.com   \n",
       "1     2019/09/25 8:45:33 PM GMT+5  muhammadwaryam97@gmail.com   \n",
       "2     2019/09/25 8:48:28 PM GMT+5    amnatanveer.at@gmail.com   \n",
       "3     2019/09/25 8:57:33 PM GMT+5    hisaankhalil@hotmail.com   \n",
       "4     2019/09/25 9:04:23 PM GMT+5     hajraakram506@gmail.com   \n",
       "..                            ...                         ...   \n",
       "336  2020/04/01 10:44:41 PM GMT+5        lubnalatef@gmail.com   \n",
       "337   2020/04/03 5:33:00 AM GMT+5      sairasamdani@gmail.com   \n",
       "338  2020/04/09 10:31:58 AM GMT+5         aaa899749@gmail.com   \n",
       "339   2020/04/12 3:02:50 PM GMT+5         qasim2713@gmail.com   \n",
       "340   2020/04/18 5:07:53 PM GMT+5  ayyan.khan1996@hotmail.com   \n",
       "\n",
       "                   Name   Contact No        City Age  Gender  \\\n",
       "0            Ather Syed  17632001987    Woodbury  32    Male   \n",
       "1                Waryam   3085617139      Lahore  22    Male   \n",
       "2          Amna Tanveer   3365236845   Islamabad  24  Female   \n",
       "3    HISAAN KHALIL NOON   3006046111   Islamabad  22    Male   \n",
       "4          Hajrah Akram   3085128162   Islamabad  25  Female   \n",
       "..                  ...          ...         ...  ..     ...   \n",
       "336               Lubna   3236074833  Faisalabad  60  Female   \n",
       "337       Saira Samdani  46738629253  Gothenburg  37  Female   \n",
       "338          Amir aslam  34603831323   Barcelona  16    Male   \n",
       "339            Altruist   3049648849      Lahore  30    Male   \n",
       "340            Rabbeyah   3244312999      Lahore  24  Female   \n",
       "\n",
       "             Occupation                                        Referred By  \\\n",
       "0                    IT                                           Facebook   \n",
       "1              Investor                                                NaN   \n",
       "2               Dentist                                                NaN   \n",
       "3     LLB HONS STUDENT   Came across recently with the youth club page ...   \n",
       "4    Government Servant                                   Facebook YC page   \n",
       "..                  ...                                                ...   \n",
       "336           education                                           Facebook   \n",
       "337   Software Engineer                                                NaN   \n",
       "338                   G                                         Youth club   \n",
       "339                 FoP                                       Mohammad Ali   \n",
       "340             Student                                                NaN   \n",
       "\n",
       "          Dates  \n",
       "0    2019/09/25  \n",
       "1    2019/09/25  \n",
       "2    2019/09/25  \n",
       "3    2019/09/25  \n",
       "4    2019/09/25  \n",
       "..          ...  \n",
       "336  2020/04/01  \n",
       "337  2020/04/03  \n",
       "338  2020/04/09  \n",
       "339  2020/04/12  \n",
       "340  2020/04/18  \n",
       "\n",
       "[341 rows x 10 columns]"
      ]
     },
     "execution_count": 271,
     "metadata": {},
     "output_type": "execute_result"
    }
   ],
   "source": [
    "yc"
   ]
  },
  {
   "cell_type": "code",
   "execution_count": 290,
   "metadata": {},
   "outputs": [],
   "source": [
    "oc = yc[\"Occupation\"].str.lower().value_counts().head(20)"
   ]
  },
  {
   "cell_type": "code",
   "execution_count": 317,
   "metadata": {},
   "outputs": [],
   "source": [
    "oc = yc[\"Occupation\"].str.lower()"
   ]
  },
  {
   "cell_type": "code",
   "execution_count": 318,
   "metadata": {},
   "outputs": [
    {
     "data": {
      "text/plain": [
       "0                      it\n",
       "1                investor\n",
       "2                 dentist\n",
       "3       llb hons student \n",
       "4      government servant\n",
       "              ...        \n",
       "336             education\n",
       "337     software engineer\n",
       "338                     g\n",
       "339                   fop\n",
       "340               student\n",
       "Name: Occupation, Length: 341, dtype: object"
      ]
     },
     "execution_count": 318,
     "metadata": {},
     "output_type": "execute_result"
    }
   ],
   "source": [
    "oc"
   ]
  },
  {
   "cell_type": "code",
   "execution_count": 328,
   "metadata": {},
   "outputs": [
    {
     "data": {
      "text/plain": [
       "False"
      ]
     },
     "execution_count": 328,
     "metadata": {},
     "output_type": "execute_result"
    }
   ],
   "source": [
    "oc.value_counts().index[0]==oc.value_counts().index[2]"
   ]
  },
  {
   "cell_type": "code",
   "execution_count": 329,
   "metadata": {},
   "outputs": [
    {
     "data": {
      "text/plain": [
       "'student '"
      ]
     },
     "execution_count": 329,
     "metadata": {},
     "output_type": "execute_result"
    }
   ],
   "source": [
    "oc.value_counts().index[2]"
   ]
  },
  {
   "cell_type": "code",
   "execution_count": 335,
   "metadata": {},
   "outputs": [
    {
     "data": {
      "text/plain": [
       "<matplotlib.axes._subplots.AxesSubplot at 0x1df7a3bd148>"
      ]
     },
     "execution_count": 335,
     "metadata": {},
     "output_type": "execute_result"
    },
    {
     "data": {
      "image/png": "[encoded data removed]",
      "text/plain": [
       "<Figure size 432x288 with 1 Axes>"
      ]
     },
     "metadata": {
      "needs_background": "light"
     },
     "output_type": "display_data"
    }
   ],
   "source": [
    "yc[\"Occupation\"].str.lower().str.strip().value_counts().head(10).plot.barh()"
   ]
  },
  {
   "cell_type": "code",
   "execution_count": null,
   "metadata": {},
   "outputs": [],
   "source": []
  }
 ],
 "metadata": {
  "kernelspec": {
   "display_name": "Python 3",
   "language": "python",
   "name": "python3"
  },
  "language_info": {
   "codemirror_mode": {
    "name": "ipython",
    "version": 3
   },
   "file_extension": ".py",
   "mimetype": "text/x-python",
   "name": "python",
   "nbconvert_exporter": "python",
   "pygments_lexer": "ipython3",
   "version": "3.7.6"
  }
 },
 "nbformat": 4,
 "nbformat_minor": 4
}
